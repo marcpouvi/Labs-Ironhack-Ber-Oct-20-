{
 "cells": [
  {
   "cell_type": "code",
   "execution_count": 1,
   "metadata": {},
   "outputs": [],
   "source": [
    "# 1. import libraries\n",
    "from bs4 import BeautifulSoup\n",
    "import requests"
   ]
  },
  {
   "cell_type": "code",
   "execution_count": 2,
   "metadata": {},
   "outputs": [],
   "source": [
    "url = \"https://developers.google.com\"\n",
    "url1 = \"https://api.sportsdata.io/api/nba/fantasy/json/CurrentSeason\"\n",
    "url2 = \"http://api.rottentomatoes.com/api/public/v1.0/lists/movies/box_office.json\""
   ]
  },
  {
   "cell_type": "code",
   "execution_count": 3,
   "metadata": {},
   "outputs": [
    {
     "data": {
      "text/plain": [
       "200"
      ]
     },
     "execution_count": 3,
     "metadata": {},
     "output_type": "execute_result"
    }
   ],
   "source": [
    "response = requests.get(url)\n",
    "response.status_code"
   ]
  },
  {
   "cell_type": "code",
   "execution_count": 4,
   "metadata": {},
   "outputs": [
    {
     "data": {
      "text/plain": [
       "401"
      ]
     },
     "execution_count": 4,
     "metadata": {},
     "output_type": "execute_result"
    }
   ],
   "source": [
    "response = requests.get(url1)\n",
    "response.status_code"
   ]
  },
  {
   "cell_type": "code",
   "execution_count": 5,
   "metadata": {},
   "outputs": [
    {
     "data": {
      "text/plain": [
       "403"
      ]
     },
     "execution_count": 5,
     "metadata": {},
     "output_type": "execute_result"
    }
   ],
   "source": [
    "response = requests.get(url2)\n",
    "response.status_code"
   ]
  },
  {
   "cell_type": "markdown",
   "metadata": {},
   "source": [
    "# Skyscanner"
   ]
  },
  {
   "cell_type": "code",
   "execution_count": 3,
   "metadata": {},
   "outputs": [],
   "source": [
    "import requests"
   ]
  },
  {
   "cell_type": "code",
   "execution_count": 16,
   "metadata": {},
   "outputs": [
    {
     "data": {
      "text/plain": [
       "{'Quotes': [{'QuoteId': 1,\n",
       "   'MinPrice': 83,\n",
       "   'Direct': True,\n",
       "   'OutboundLeg': {'CarrierIds': [851],\n",
       "    'OriginId': 81727,\n",
       "    'DestinationId': 50290,\n",
       "    'DepartureDate': '2020-12-12T00:00:00'},\n",
       "   'QuoteDateTime': '2020-12-01T09:33:00'}],\n",
       " 'Carriers': [{'CarrierId': 851, 'Name': 'Alaska Airlines'}],\n",
       " 'Places': [{'Name': 'New York Newark',\n",
       "   'Type': 'Station',\n",
       "   'PlaceId': 50290,\n",
       "   'IataCode': 'EWR',\n",
       "   'SkyscannerCode': 'EWR',\n",
       "   'CityName': 'New York',\n",
       "   'CityId': 'NYCA',\n",
       "   'CountryName': 'United States'},\n",
       "  {'Name': 'San Francisco International',\n",
       "   'Type': 'Station',\n",
       "   'PlaceId': 81727,\n",
       "   'IataCode': 'SFO',\n",
       "   'SkyscannerCode': 'SFO',\n",
       "   'CityName': 'San Francisco',\n",
       "   'CityId': 'SFOA',\n",
       "   'CountryName': 'United States'}],\n",
       " 'Currencies': [{'Code': 'GBP',\n",
       "   'Symbol': '£',\n",
       "   'ThousandsSeparator': ',',\n",
       "   'DecimalSeparator': '.',\n",
       "   'SymbolOnLeft': True,\n",
       "   'SpaceBetweenAmountAndSymbol': False,\n",
       "   'RoundingCoefficient': 0,\n",
       "   'DecimalDigits': 2}]}"
      ]
     },
     "execution_count": 16,
     "metadata": {},
     "output_type": "execute_result"
    }
   ],
   "source": [
    "# flights from where to where on what date\n",
    "url = 'https://skyscanner-skyscanner-flight-search-v1.p.rapidapi.com/apiservices/browsequotes/v1.0/UK/GBP/en-GB/SFO-sky/NYCA-sky/2020-12-12'\n",
    "params = {'inboundpartialdate':'2020-12-12'}\n",
    "headers = {\n",
    "    'x-rapidapi-host': 'skyscanner-skyscanner-flight-search-v1.p.rapidapi.com',\n",
    "    'x-rapidapi-key': 'f440cd47d9msh1242e8fec2b54bcp1114b0jsn2208616b850d'}\n",
    "#url -- url of the API\n",
    "#params -- parameter of the date\n",
    "#header-- you get that from the API web\n",
    "\n",
    "\n",
    "response = requests.get(url,headers = headers, params = params)\n",
    "\n",
    "response.json()"
   ]
  },
  {
   "cell_type": "code",
   "execution_count": 17,
   "metadata": {},
   "outputs": [],
   "source": [
    "# Turning the information into data frame\n",
    "import pandas as pd\n",
    "import json\n",
    "# We import json because the API outputs on the json"
   ]
  },
  {
   "cell_type": "code",
   "execution_count": 18,
   "metadata": {},
   "outputs": [
    {
     "data": {
      "text/html": [
       "<div>\n",
       "<style scoped>\n",
       "    .dataframe tbody tr th:only-of-type {\n",
       "        vertical-align: middle;\n",
       "    }\n",
       "\n",
       "    .dataframe tbody tr th {\n",
       "        vertical-align: top;\n",
       "    }\n",
       "\n",
       "    .dataframe thead th {\n",
       "        text-align: right;\n",
       "    }\n",
       "</style>\n",
       "<table border=\"1\" class=\"dataframe\">\n",
       "  <thead>\n",
       "    <tr style=\"text-align: right;\">\n",
       "      <th></th>\n",
       "      <th>Quotes</th>\n",
       "      <th>Carriers</th>\n",
       "      <th>Places</th>\n",
       "      <th>Currencies</th>\n",
       "    </tr>\n",
       "  </thead>\n",
       "  <tbody>\n",
       "    <tr>\n",
       "      <th>0</th>\n",
       "      <td>[{'QuoteId': 1, 'MinPrice': 83, 'Direct': True...</td>\n",
       "      <td>[{'CarrierId': 851, 'Name': 'Alaska Airlines'}]</td>\n",
       "      <td>[{'Name': 'New York Newark', 'Type': 'Station'...</td>\n",
       "      <td>[{'Code': 'GBP', 'Symbol': '£', 'ThousandsSepa...</td>\n",
       "    </tr>\n",
       "  </tbody>\n",
       "</table>\n",
       "</div>"
      ],
      "text/plain": [
       "                                              Quotes  \\\n",
       "0  [{'QuoteId': 1, 'MinPrice': 83, 'Direct': True...   \n",
       "\n",
       "                                          Carriers  \\\n",
       "0  [{'CarrierId': 851, 'Name': 'Alaska Airlines'}]   \n",
       "\n",
       "                                              Places  \\\n",
       "0  [{'Name': 'New York Newark', 'Type': 'Station'...   \n",
       "\n",
       "                                          Currencies  \n",
       "0  [{'Code': 'GBP', 'Symbol': '£', 'ThousandsSepa...  "
      ]
     },
     "execution_count": 18,
     "metadata": {},
     "output_type": "execute_result"
    }
   ],
   "source": [
    "# We normalize the information\n",
    "pd.json_normalize(response.json())"
   ]
  },
  {
   "cell_type": "code",
   "execution_count": 19,
   "metadata": {},
   "outputs": [
    {
     "data": {
      "text/html": [
       "<div>\n",
       "<style scoped>\n",
       "    .dataframe tbody tr th:only-of-type {\n",
       "        vertical-align: middle;\n",
       "    }\n",
       "\n",
       "    .dataframe tbody tr th {\n",
       "        vertical-align: top;\n",
       "    }\n",
       "\n",
       "    .dataframe thead th {\n",
       "        text-align: right;\n",
       "    }\n",
       "</style>\n",
       "<table border=\"1\" class=\"dataframe\">\n",
       "  <thead>\n",
       "    <tr style=\"text-align: right;\">\n",
       "      <th></th>\n",
       "      <th>QuoteId</th>\n",
       "      <th>MinPrice</th>\n",
       "      <th>Direct</th>\n",
       "      <th>OutboundLeg</th>\n",
       "      <th>QuoteDateTime</th>\n",
       "    </tr>\n",
       "  </thead>\n",
       "  <tbody>\n",
       "    <tr>\n",
       "      <th>0</th>\n",
       "      <td>1</td>\n",
       "      <td>83</td>\n",
       "      <td>True</td>\n",
       "      <td>{'CarrierIds': [851], 'OriginId': 81727, 'Dest...</td>\n",
       "      <td>2020-12-01T09:33:00</td>\n",
       "    </tr>\n",
       "  </tbody>\n",
       "</table>\n",
       "</div>"
      ],
      "text/plain": [
       "   QuoteId  MinPrice  Direct  \\\n",
       "0        1        83    True   \n",
       "\n",
       "                                         OutboundLeg        QuoteDateTime  \n",
       "0  {'CarrierIds': [851], 'OriginId': 81727, 'Dest...  2020-12-01T09:33:00  "
      ]
     },
     "execution_count": 19,
     "metadata": {},
     "output_type": "execute_result"
    }
   ],
   "source": [
    "# imported to a Data Frame\n",
    "quotes = pd.DataFrame(pd.json_normalize(response.json())['Quotes'][0])\n",
    "quotes"
   ]
  },
  {
   "cell_type": "code",
   "execution_count": 22,
   "metadata": {},
   "outputs": [
    {
     "data": {
      "text/html": [
       "<div>\n",
       "<style scoped>\n",
       "    .dataframe tbody tr th:only-of-type {\n",
       "        vertical-align: middle;\n",
       "    }\n",
       "\n",
       "    .dataframe tbody tr th {\n",
       "        vertical-align: top;\n",
       "    }\n",
       "\n",
       "    .dataframe thead th {\n",
       "        text-align: right;\n",
       "    }\n",
       "</style>\n",
       "<table border=\"1\" class=\"dataframe\">\n",
       "  <thead>\n",
       "    <tr style=\"text-align: right;\">\n",
       "      <th></th>\n",
       "      <th>CarrierIds</th>\n",
       "      <th>OriginId</th>\n",
       "      <th>DestinationId</th>\n",
       "      <th>DepartureDate</th>\n",
       "    </tr>\n",
       "  </thead>\n",
       "  <tbody>\n",
       "    <tr>\n",
       "      <th>0</th>\n",
       "      <td>851</td>\n",
       "      <td>81727</td>\n",
       "      <td>50290</td>\n",
       "      <td>2020-12-12T00:00:00</td>\n",
       "    </tr>\n",
       "  </tbody>\n",
       "</table>\n",
       "</div>"
      ],
      "text/plain": [
       "   CarrierIds  OriginId  DestinationId        DepartureDate\n",
       "0         851     81727          50290  2020-12-12T00:00:00"
      ]
     },
     "execution_count": 22,
     "metadata": {},
     "output_type": "execute_result"
    }
   ],
   "source": [
    "flights = pd.DataFrame(pd.DataFrame(pd.json_normalize(response.json())['Quotes'][0])['OutboundLeg'][0])\n",
    "flights"
   ]
  },
  {
   "cell_type": "code",
   "execution_count": 21,
   "metadata": {},
   "outputs": [
    {
     "data": {
      "text/html": [
       "<div>\n",
       "<style scoped>\n",
       "    .dataframe tbody tr th:only-of-type {\n",
       "        vertical-align: middle;\n",
       "    }\n",
       "\n",
       "    .dataframe tbody tr th {\n",
       "        vertical-align: top;\n",
       "    }\n",
       "\n",
       "    .dataframe thead th {\n",
       "        text-align: right;\n",
       "    }\n",
       "</style>\n",
       "<table border=\"1\" class=\"dataframe\">\n",
       "  <thead>\n",
       "    <tr style=\"text-align: right;\">\n",
       "      <th></th>\n",
       "      <th>CarrierId</th>\n",
       "      <th>Name</th>\n",
       "    </tr>\n",
       "  </thead>\n",
       "  <tbody>\n",
       "    <tr>\n",
       "      <th>0</th>\n",
       "      <td>851</td>\n",
       "      <td>Alaska Airlines</td>\n",
       "    </tr>\n",
       "  </tbody>\n",
       "</table>\n",
       "</div>"
      ],
      "text/plain": [
       "   CarrierId             Name\n",
       "0        851  Alaska Airlines"
      ]
     },
     "execution_count": 21,
     "metadata": {},
     "output_type": "execute_result"
    }
   ],
   "source": [
    "quotes = pd.DataFrame(pd.json_normalize(response.json())['Carriers'][0])\n",
    "quotes\n",
    "# We index 0, because we want to get the first rows"
   ]
  },
  {
   "cell_type": "code",
   "execution_count": 23,
   "metadata": {},
   "outputs": [
    {
     "data": {
      "text/html": [
       "<div>\n",
       "<style scoped>\n",
       "    .dataframe tbody tr th:only-of-type {\n",
       "        vertical-align: middle;\n",
       "    }\n",
       "\n",
       "    .dataframe tbody tr th {\n",
       "        vertical-align: top;\n",
       "    }\n",
       "\n",
       "    .dataframe thead th {\n",
       "        text-align: right;\n",
       "    }\n",
       "</style>\n",
       "<table border=\"1\" class=\"dataframe\">\n",
       "  <thead>\n",
       "    <tr style=\"text-align: right;\">\n",
       "      <th></th>\n",
       "      <th>Name</th>\n",
       "      <th>Type</th>\n",
       "      <th>PlaceId</th>\n",
       "      <th>IataCode</th>\n",
       "      <th>SkyscannerCode</th>\n",
       "      <th>CityName</th>\n",
       "      <th>CityId</th>\n",
       "      <th>CountryName</th>\n",
       "    </tr>\n",
       "  </thead>\n",
       "  <tbody>\n",
       "    <tr>\n",
       "      <th>0</th>\n",
       "      <td>New York Newark</td>\n",
       "      <td>Station</td>\n",
       "      <td>50290</td>\n",
       "      <td>EWR</td>\n",
       "      <td>EWR</td>\n",
       "      <td>New York</td>\n",
       "      <td>NYCA</td>\n",
       "      <td>United States</td>\n",
       "    </tr>\n",
       "    <tr>\n",
       "      <th>1</th>\n",
       "      <td>San Francisco International</td>\n",
       "      <td>Station</td>\n",
       "      <td>81727</td>\n",
       "      <td>SFO</td>\n",
       "      <td>SFO</td>\n",
       "      <td>San Francisco</td>\n",
       "      <td>SFOA</td>\n",
       "      <td>United States</td>\n",
       "    </tr>\n",
       "  </tbody>\n",
       "</table>\n",
       "</div>"
      ],
      "text/plain": [
       "                          Name     Type  PlaceId IataCode SkyscannerCode  \\\n",
       "0              New York Newark  Station    50290      EWR            EWR   \n",
       "1  San Francisco International  Station    81727      SFO            SFO   \n",
       "\n",
       "        CityName CityId    CountryName  \n",
       "0       New York   NYCA  United States  \n",
       "1  San Francisco   SFOA  United States  "
      ]
     },
     "execution_count": 23,
     "metadata": {},
     "output_type": "execute_result"
    }
   ],
   "source": [
    "places = pd.DataFrame(pd.json_normalize(response.json())['Places'][0])\n",
    "places"
   ]
  },
  {
   "cell_type": "code",
   "execution_count": 24,
   "metadata": {},
   "outputs": [],
   "source": [
    "# We create a function that returns the lowest price \n",
    "\n",
    "def lowest_price(origin, destination, start, end):\n",
    "    flights = flight_days(origin, destination, start, end)\n",
    "    prices = {date:min([quote[\"MinPrice\"] for quote in flights[date][\"Quotes\"]]) for date in flights for quote in flights[date][\"Quotes\"]}\n",
    "    return min(prices, key = prices.get)"
   ]
  },
  {
   "cell_type": "code",
   "execution_count": null,
   "metadata": {},
   "outputs": [],
   "source": []
  }
 ],
 "metadata": {
  "kernelspec": {
   "display_name": "Python 3",
   "language": "python",
   "name": "python3"
  },
  "language_info": {
   "codemirror_mode": {
    "name": "ipython",
    "version": 3
   },
   "file_extension": ".py",
   "mimetype": "text/x-python",
   "name": "python",
   "nbconvert_exporter": "python",
   "pygments_lexer": "ipython3",
   "version": "3.8.3"
  }
 },
 "nbformat": 4,
 "nbformat_minor": 4
}
